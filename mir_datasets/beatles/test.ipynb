{
 "cells": [
  {
   "cell_type": "code",
   "execution_count": 2,
   "id": "8c0d22ca-708a-4458-8942-18da2440e584",
   "metadata": {},
   "outputs": [
    {
     "name": "stdout",
     "output_type": "stream",
     "text": [
      "Loading 03_-_I'm_Only_Sleeping_basic...\n"
     ]
    },
    {
     "ename": "NameError",
     "evalue": "name 'scaler' is not defined",
     "output_type": "error",
     "traceback": [
      "\u001b[0;31m---------------------------------------------------------------------------\u001b[0m",
      "\u001b[0;31mNameError\u001b[0m                                 Traceback (most recent call last)",
      "Cell \u001b[0;32mIn[2], line 33\u001b[0m\n\u001b[1;32m     30\u001b[0m labels \u001b[38;5;241m=\u001b[39m np\u001b[38;5;241m.\u001b[39mload(label_path)\n\u001b[1;32m     32\u001b[0m \u001b[38;5;66;03m# Apply scaling (assuming 'scaler' is defined earlier)\u001b[39;00m\n\u001b[0;32m---> 33\u001b[0m features_scaled \u001b[38;5;241m=\u001b[39m \u001b[43mscaler\u001b[49m\u001b[38;5;241m.\u001b[39mtransform(features)\n\u001b[1;32m     35\u001b[0m \u001b[38;5;66;03m# Create context windows (assuming 'create_context_windows' is defined earlier)\u001b[39;00m\n\u001b[1;32m     36\u001b[0m X_windowed, y_windowed \u001b[38;5;241m=\u001b[39m create_context_windows(features_scaled, labels)\n",
      "\u001b[0;31mNameError\u001b[0m: name 'scaler' is not defined"
     ]
    }
   ],
   "source": [
    "import os\n",
    "import numpy as np\n",
    "from tensorflow.keras.utils import to_categorical\n",
    "\n",
    "# Define the feature directory\n",
    "feature_dir = '/Users/akshitupadhyay/mir_datasets/beatles/basic_filter/'\n",
    "\n",
    "# List all the encoded label files\n",
    "label_files = [f for f in os.listdir(feature_dir) if f.endswith('_labels.npy')]\n",
    "X_all, y_all = [], []\n",
    "song_details = []\n",
    "\n",
    "for label_file in label_files:\n",
    "    # Extract song name from label file\n",
    "    song_name = label_file.replace('_labels.npy', '')\n",
    "    \n",
    "    # Construct corresponding feature file name\n",
    "    feature_file = f\"{song_name}_features.npy\"\n",
    "    feature_path = os.path.join(feature_dir, feature_file)\n",
    "    label_path = os.path.join(feature_dir, label_file)\n",
    "    \n",
    "    # Check if the feature file exists\n",
    "    if not os.path.exists(feature_path):\n",
    "        print(f\"Feature file not found for {song_name}\")\n",
    "        continue\n",
    "    \n",
    "    # Load feature and label data\n",
    "    print(f\"Loading {song_name}...\")\n",
    "    features = np.load(feature_path)\n",
    "    labels = np.load(label_path)\n",
    "    \n",
    "    # Apply scaling (assuming 'scaler' is defined earlier)\n",
    "    features_scaled = scaler.transform(features)\n",
    "    \n",
    "    # Create context windows (assuming 'create_context_windows' is defined earlier)\n",
    "    X_windowed, y_windowed = create_context_windows(features_scaled, labels)\n",
    "    \n",
    "    # Append to the lists\n",
    "    X_all.append(X_windowed)\n",
    "    y_all.append(y_windowed)\n",
    "    song_details.append((song_name, len(X_windowed)))\n",
    "\n",
    "# Combine all data\n",
    "X_all = np.vstack(X_all) if X_all else np.array([])\n",
    "\n",
    "# Flatten y_all to ensure it's a 1D array of labels\n",
    "y_all_flat = np.concatenate(y_all).flatten()\n",
    "\n",
    "# Check for unique label values\n",
    "unique_labels = np.unique(y_all_flat)\n",
    "print(f\"Unique labels: {unique_labels}\")\n",
    "\n",
    "# Map non-integer labels to integers\n",
    "# For example, if 'N' is an invalid label, map it to 0 or any other valid integer\n",
    "y_all_flat = np.array([label if isinstance(label, int) else 0 for label in y_all_flat])\n",
    "\n",
    "# Convert to one-hot encoding\n",
    "y_all_onehot = to_categorical(y_all_flat, num_classes=num_classes)\n",
    "\n",
    "# Print the shape of the resulting one-hot encoded array\n",
    "print(f\"y_all_onehot shape: {y_all_onehot.shape}\")\n",
    "\n",
    "# Print details\n",
    "print(f\"Loaded {len(song_details)} songs with total {len(X_all)} frames\")\n",
    "print(f\"Input shape: {X_all.shape}, Output shape: {y_all_onehot.shape}\")"
   ]
  },
  {
   "cell_type": "code",
   "execution_count": null,
   "id": "8ef2b043-893b-49cc-877e-ac6515979274",
   "metadata": {},
   "outputs": [],
   "source": []
  }
 ],
 "metadata": {
  "kernelspec": {
   "display_name": "Python (mirdata-env)",
   "language": "python",
   "name": "mirdata-env"
  },
  "language_info": {
   "codemirror_mode": {
    "name": "ipython",
    "version": 3
   },
   "file_extension": ".py",
   "mimetype": "text/x-python",
   "name": "python",
   "nbconvert_exporter": "python",
   "pygments_lexer": "ipython3",
   "version": "3.10.16"
  }
 },
 "nbformat": 4,
 "nbformat_minor": 5
}
